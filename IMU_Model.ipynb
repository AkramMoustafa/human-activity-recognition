{
 "cells": [
  {
   "cell_type": "markdown",
   "id": "b3ed34bf",
   "metadata": {},
   "source": [
    "Created by: Akram Moustafa\n",
    "Date: 09/02/2025\n",
    "\n",
    "Description: \n",
    "This project implements machine learning models for Human Activity Recognition (HAR)\n",
    "using IMU sensor data. The goal of the machine learning model is to predict gestures before they occur by analyzing IMU sensor data.\n",
    "\n",
    "Dataset obtained from: Reyes-Ortiz, J., Anguita, D., Ghio, A., Oneto, L., & Parra, X. (2013). Human Activity Recognition Using Smartphones [Dataset]. UCI Machine Learning Repository. https://doi.org/10.24432/C54S4K."
   ]
  },
  {
   "cell_type": "code",
   "execution_count": null,
   "id": "a46e8e46",
   "metadata": {},
   "outputs": [
    {
     "name": "stdout",
     "output_type": "stream",
     "text": [
      "X_train shape: (7352, 561)\n",
      "y_train shape: (7352,)\n",
      "X_test shape: (2947, 561)\n",
      "y_test shape: (2947,)\n"
     ]
    }
   ],
   "source": [
    "import numpy as np\n",
    "import pandas as pd\n",
    "\n",
    "# Folder\n",
    "DATASET_PATH = \"./UCI HAR Dataset/\"\n",
    "\n",
    "# Train folder\n",
    "X_train = np.loadtxt(DATASET_PATH + \"train/X_train.txt\")\n",
    "y_train = np.loadtxt(DATASET_PATH + \"train/y_train.txt\").astype(int)\n",
    "\n",
    "# Train folder\n",
    "X_test = np.loadtxt(DATASET_PATH + \"test/X_test.txt\")\n",
    "y_test = np.loadtxt(DATASET_PATH + \"test/y_test.txt\").astype(int)\n",
    "\n",
    "print(\"X_train shape:\", X_train.shape)  # (7352, 561)\n",
    "print(\"y_train shape:\", y_train.shape)  # (7352,)\n",
    "print(\"X_test shape:\", X_test.shape)    # (2947, 561)\n",
    "print(\"y_test shape:\", y_test.shape)    # (2947,)"
   ]
  },
  {
   "cell_type": "code",
   "execution_count": 14,
   "id": "a099dfe0",
   "metadata": {},
   "outputs": [
    {
     "name": "stdout",
     "output_type": "stream",
     "text": [
      " Volume in drive C is OS\n",
      " Volume Serial Number is 0A59-08DE\n",
      "\n",
      " Directory of c:\\Users\\ammou\\OneDrive\\Desktop\\IMUResearch\n",
      "\n",
      "09/02/2025  02:39 PM    <DIR>          .\n",
      "09/02/2025  02:22 PM    <DIR>          ..\n",
      "09/02/2025  02:38 PM               866 IMU_Model.ipynb\n",
      "09/02/2025  02:40 PM    <DIR>          UCI HAR Dataset\n",
      "               1 File(s)            866 bytes\n",
      "               3 Dir(s)  244,721,938,432 bytes free\n"
     ]
    }
   ],
   "source": [
    "!dir"
   ]
  },
  {
   "cell_type": "code",
   "execution_count": null,
   "id": "b1533fa8",
   "metadata": {},
   "outputs": [],
   "source": []
  }
 ],
 "metadata": {
  "kernelspec": {
   "display_name": "Python (myenv)",
   "language": "python",
   "name": "myenv"
  },
  "language_info": {
   "codemirror_mode": {
    "name": "ipython",
    "version": 3
   },
   "file_extension": ".py",
   "mimetype": "text/x-python",
   "name": "python",
   "nbconvert_exporter": "python",
   "pygments_lexer": "ipython3",
   "version": "3.13.0"
  }
 },
 "nbformat": 4,
 "nbformat_minor": 5
}
